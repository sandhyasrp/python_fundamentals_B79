{
 "cells": [
  {
   "cell_type": "code",
   "execution_count": null,
   "id": "87a146e5",
   "metadata": {},
   "outputs": [],
   "source": [
    "#Introduction to list datatype:\n",
    "Defination: A list is a collection of items declaredf in a particular order.\n",
    "\n",
    "Classification: It is classified as an mutable datatype"
   ]
  },
  {
   "cell_type": "code",
   "execution_count": null,
   "id": "1669863e",
   "metadata": {},
   "outputs": [],
   "source": [
    "#how to define the list...?\n",
    "to define a list we use []"
   ]
  },
  {
   "cell_type": "code",
   "execution_count": 9,
   "id": "5fdd2f07",
   "metadata": {},
   "outputs": [
    {
     "name": "stdout",
     "output_type": "stream",
     "text": [
      "['vinod', 'ramya', 'ayesha', 'sara', 'david', 'naveen', 'ahmed']\n"
     ]
    }
   ],
   "source": [
    "students=['vinod','ramya','ayesha','sara','david','naveen','ahmed']\n",
    "print(students)"
   ]
  },
  {
   "cell_type": "code",
   "execution_count": 2,
   "id": "1b22c9db",
   "metadata": {},
   "outputs": [
    {
     "data": {
      "text/plain": [
       "list"
      ]
     },
     "execution_count": 2,
     "metadata": {},
     "output_type": "execute_result"
    }
   ],
   "source": [
    "type(students)"
   ]
  },
  {
   "cell_type": "code",
   "execution_count": null,
   "id": "4ea40fdb",
   "metadata": {},
   "outputs": [],
   "source": [
    "# Introduction to Indexing\n",
    "Introduction to indexing:0,1,2,3,4......"
   ]
  },
  {
   "cell_type": "code",
   "execution_count": null,
   "id": "b6428448",
   "metadata": {},
   "outputs": [],
   "source": [
    "# if we want to acces ramya name on the output"
   ]
  },
  {
   "cell_type": "code",
   "execution_count": 3,
   "id": "ab1c7632",
   "metadata": {},
   "outputs": [
    {
     "name": "stdout",
     "output_type": "stream",
     "text": [
      "ramya\n"
     ]
    }
   ],
   "source": [
    "print(students[1])"
   ]
  },
  {
   "cell_type": "code",
   "execution_count": null,
   "id": "811968b4",
   "metadata": {},
   "outputs": [],
   "source": [
    "# if we want r in ramya with capital letter.."
   ]
  },
  {
   "cell_type": "code",
   "execution_count": 4,
   "id": "bc3b0a96",
   "metadata": {},
   "outputs": [
    {
     "name": "stdout",
     "output_type": "stream",
     "text": [
      "Ramya\n"
     ]
    }
   ],
   "source": [
    "print(students[1].title())"
   ]
  },
  {
   "cell_type": "code",
   "execution_count": null,
   "id": "3fbb82f9",
   "metadata": {},
   "outputs": [],
   "source": [
    "# if we want sara name on the output..."
   ]
  },
  {
   "cell_type": "code",
   "execution_count": 5,
   "id": "ec3c75d3",
   "metadata": {},
   "outputs": [
    {
     "ename": "NameError",
     "evalue": "name 'prit' is not defined",
     "output_type": "error",
     "traceback": [
      "\u001b[1;31m---------------------------------------------------------------------------\u001b[0m",
      "\u001b[1;31mNameError\u001b[0m                                 Traceback (most recent call last)",
      "Cell \u001b[1;32mIn[5], line 1\u001b[0m\n\u001b[1;32m----> 1\u001b[0m prit(students[\u001b[38;5;241m3\u001b[39m]\u001b[38;5;241m.\u001b[39mtitle())\n",
      "\u001b[1;31mNameError\u001b[0m: name 'prit' is not defined"
     ]
    }
   ],
   "source": [
    "prit(students[3].title())"
   ]
  },
  {
   "cell_type": "code",
   "execution_count": 6,
   "id": "aef8c7df",
   "metadata": {},
   "outputs": [
    {
     "name": "stdout",
     "output_type": "stream",
     "text": [
      "Sara\n"
     ]
    }
   ],
   "source": [
    "print(students[3].title())"
   ]
  },
  {
   "cell_type": "code",
   "execution_count": 10,
   "id": "2e97afe8",
   "metadata": {},
   "outputs": [
    {
     "name": "stdout",
     "output_type": "stream",
     "text": [
      "['vinod', 'ramya', 'ayesha', 'sara', 'david', 'naveen', 'ahmed']\n"
     ]
    }
   ],
   "source": [
    "print(students)"
   ]
  },
  {
   "cell_type": "code",
   "execution_count": null,
   "id": "62ceb398",
   "metadata": {},
   "outputs": [],
   "source": [
    "# if we want to add kunal in the above list... we use append() method"
   ]
  },
  {
   "cell_type": "code",
   "execution_count": 12,
   "id": "a59dcb59",
   "metadata": {},
   "outputs": [
    {
     "name": "stdout",
     "output_type": "stream",
     "text": [
      "['vinod', 'ramya', 'ayesha', 'sara', 'david', 'naveen', 'ahmed', 'kunal']\n"
     ]
    }
   ],
   "source": [
    "students.append('kunal')\n",
    "print(students)"
   ]
  },
  {
   "cell_type": "code",
   "execution_count": null,
   "id": "a7e73d95",
   "metadata": {},
   "outputs": [],
   "source": [
    "# if we want to add kalyani"
   ]
  },
  {
   "cell_type": "code",
   "execution_count": 13,
   "id": "48f146aa",
   "metadata": {},
   "outputs": [
    {
     "name": "stdout",
     "output_type": "stream",
     "text": [
      "['vinod', 'ramya', 'ayesha', 'sara', 'david', 'naveen', 'ahmed', 'kunal', 'kalyani']\n"
     ]
    }
   ],
   "source": [
    "students.append('kalyani')\n",
    "print(students)"
   ]
  },
  {
   "cell_type": "code",
   "execution_count": null,
   "id": "b6724e32",
   "metadata": {},
   "outputs": [],
   "source": [
    "# Observation: when we are adding a new name into list,it is being added at the end of the list."
   ]
  },
  {
   "cell_type": "code",
   "execution_count": null,
   "id": "94acfae7",
   "metadata": {},
   "outputs": [],
   "source": [
    "# interview question: can you please explain what is the difference between append and insert method in a list..."
   ]
  },
  {
   "cell_type": "code",
   "execution_count": null,
   "id": "ef8cf622",
   "metadata": {},
   "outputs": [],
   "source": [
    "# 1.how to add new elements to the list.\n",
    "2.how to edit/alter the elemetns in the last.\n",
    "3.how to delete the element in the list"
   ]
  },
  {
   "cell_type": "code",
   "execution_count": null,
   "id": "ddb2ed42",
   "metadata": {},
   "outputs": [],
   "source": [
    "# if we want to add firdous to the 2nd index position"
   ]
  },
  {
   "cell_type": "code",
   "execution_count": 15,
   "id": "da881419",
   "metadata": {},
   "outputs": [],
   "source": [
    "students.insert(2,'firdous')"
   ]
  },
  {
   "cell_type": "code",
   "execution_count": 16,
   "id": "4f5f3d3b",
   "metadata": {},
   "outputs": [
    {
     "name": "stdout",
     "output_type": "stream",
     "text": [
      "['vinod', 'ramya', 'firdous', 'ayesha', 'sara', 'david', 'naveen', 'ahmed', 'kunal', 'kalyani']\n"
     ]
    }
   ],
   "source": [
    "print(students)"
   ]
  },
  {
   "cell_type": "code",
   "execution_count": 17,
   "id": "7924ab47",
   "metadata": {},
   "outputs": [
    {
     "name": "stdout",
     "output_type": "stream",
     "text": [
      "Firdous\n"
     ]
    }
   ],
   "source": [
    "print(students[2].title())"
   ]
  },
  {
   "cell_type": "code",
   "execution_count": null,
   "id": "e3850278",
   "metadata": {},
   "outputs": [],
   "source": [
    "# if we want to change the name vinod to vani"
   ]
  },
  {
   "cell_type": "code",
   "execution_count": 18,
   "id": "17241be5",
   "metadata": {},
   "outputs": [
    {
     "name": "stdout",
     "output_type": "stream",
     "text": [
      "['vani', 'ramya', 'firdous', 'ayesha', 'sara', 'david', 'naveen', 'ahmed', 'kunal', 'kalyani']\n"
     ]
    }
   ],
   "source": [
    "students[0]='vani'\n",
    "print(students)"
   ]
  },
  {
   "cell_type": "code",
   "execution_count": null,
   "id": "4a533402",
   "metadata": {},
   "outputs": [],
   "source": [
    "# deleting \n",
    "1. Temporary deleting==> pop()\n",
    "2. Permanent deleting"
   ]
  },
  {
   "cell_type": "code",
   "execution_count": null,
   "id": "8a9f39c1",
   "metadata": {},
   "outputs": [],
   "source": [
    "# pop() it will be creating a carbon copy of the deleted items and storing the value that has been assigned it."
   ]
  },
  {
   "cell_type": "code",
   "execution_count": null,
   "id": "3d32204a",
   "metadata": {},
   "outputs": [],
   "source": [
    "# Note: by default it will be deleting the last element from the list"
   ]
  },
  {
   "cell_type": "code",
   "execution_count": 19,
   "id": "3ee7c907",
   "metadata": {},
   "outputs": [
    {
     "ename": "NameError",
     "evalue": "name 'x' is not defined",
     "output_type": "error",
     "traceback": [
      "\u001b[1;31m---------------------------------------------------------------------------\u001b[0m",
      "\u001b[1;31mNameError\u001b[0m                                 Traceback (most recent call last)",
      "Cell \u001b[1;32mIn[19], line 1\u001b[0m\n\u001b[1;32m----> 1\u001b[0m x\u001b[38;5;241m.\u001b[39mstudents\u001b[38;5;241m.\u001b[39mpop()\n\u001b[0;32m      2\u001b[0m \u001b[38;5;28mprint\u001b[39m(students)\n",
      "\u001b[1;31mNameError\u001b[0m: name 'x' is not defined"
     ]
    }
   ],
   "source": [
    "x.students.pop()\n",
    "print(students)"
   ]
  },
  {
   "cell_type": "code",
   "execution_count": 20,
   "id": "feb546ae",
   "metadata": {},
   "outputs": [
    {
     "name": "stdout",
     "output_type": "stream",
     "text": [
      "['vani', 'ramya', 'firdous', 'ayesha', 'sara', 'david', 'naveen', 'ahmed', 'kunal']\n"
     ]
    }
   ],
   "source": [
    "x=students.pop()\n",
    "print(students)"
   ]
  },
  {
   "cell_type": "code",
   "execution_count": null,
   "id": "089afb8d",
   "metadata": {},
   "outputs": [],
   "source": [
    "# if we want to delete ramya from the list.."
   ]
  },
  {
   "cell_type": "code",
   "execution_count": 22,
   "id": "3bf3f4b8",
   "metadata": {},
   "outputs": [
    {
     "name": "stdout",
     "output_type": "stream",
     "text": [
      "['vani', 'ayesha', 'sara', 'david', 'naveen', 'ahmed', 'kunal']\n"
     ]
    }
   ],
   "source": [
    "y=students.pop(1)\n",
    "print(students)"
   ]
  },
  {
   "cell_type": "code",
   "execution_count": 23,
   "id": "0a18384b",
   "metadata": {},
   "outputs": [
    {
     "name": "stdout",
     "output_type": "stream",
     "text": [
      "['vani', 'ayesha', 'sara', 'david', 'naveen', 'ahmed', 'kunal']\n"
     ]
    }
   ],
   "source": [
    "print(students)"
   ]
  },
  {
   "cell_type": "code",
   "execution_count": 24,
   "id": "ed956afa",
   "metadata": {},
   "outputs": [
    {
     "name": "stdout",
     "output_type": "stream",
     "text": [
      "firdous\n"
     ]
    }
   ],
   "source": [
    "print(y)"
   ]
  },
  {
   "cell_type": "code",
   "execution_count": null,
   "id": "32b7c836",
   "metadata": {},
   "outputs": [],
   "source": [
    "# if we want delete vani.. using permanent deleting"
   ]
  },
  {
   "cell_type": "code",
   "execution_count": 25,
   "id": "d2f3aa40",
   "metadata": {},
   "outputs": [
    {
     "ename": "NameError",
     "evalue": "name 'student' is not defined",
     "output_type": "error",
     "traceback": [
      "\u001b[1;31m---------------------------------------------------------------------------\u001b[0m",
      "\u001b[1;31mNameError\u001b[0m                                 Traceback (most recent call last)",
      "Cell \u001b[1;32mIn[25], line 1\u001b[0m\n\u001b[1;32m----> 1\u001b[0m \u001b[38;5;28;01mdel\u001b[39;00m student[\u001b[38;5;241m0\u001b[39m]\n\u001b[0;32m      2\u001b[0m \u001b[38;5;28mprint\u001b[39m(students)\n",
      "\u001b[1;31mNameError\u001b[0m: name 'student' is not defined"
     ]
    }
   ],
   "source": [
    "del student[0]\n",
    "print(students)"
   ]
  },
  {
   "cell_type": "code",
   "execution_count": 26,
   "id": "3ed2d2df",
   "metadata": {},
   "outputs": [
    {
     "name": "stdout",
     "output_type": "stream",
     "text": [
      "['ayesha', 'sara', 'david', 'naveen', 'ahmed', 'kunal']\n"
     ]
    }
   ],
   "source": [
    "del students[0]\n",
    "print(students)"
   ]
  },
  {
   "cell_type": "code",
   "execution_count": null,
   "id": "8fc202cb",
   "metadata": {},
   "outputs": [],
   "source": [
    "# Interview question: can you please explain the difference between pop and delete methods in a list data type.."
   ]
  }
 ],
 "metadata": {
  "kernelspec": {
   "display_name": "Python 3 (ipykernel)",
   "language": "python",
   "name": "python3"
  },
  "language_info": {
   "codemirror_mode": {
    "name": "ipython",
    "version": 3
   },
   "file_extension": ".py",
   "mimetype": "text/x-python",
   "name": "python",
   "nbconvert_exporter": "python",
   "pygments_lexer": "ipython3",
   "version": "3.11.3"
  }
 },
 "nbformat": 4,
 "nbformat_minor": 5
}
