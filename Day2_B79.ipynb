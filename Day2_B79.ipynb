{
 "cells": [
  {
   "cell_type": "code",
   "execution_count": 1,
   "id": "bfb5c2f2",
   "metadata": {},
   "outputs": [
    {
     "name": "stdout",
     "output_type": "stream",
     "text": [
      "5\n"
     ]
    }
   ],
   "source": [
    "x=2\n",
    "y=3\n",
    "z=x+y\n",
    "print(z)"
   ]
  },
  {
   "cell_type": "code",
   "execution_count": null,
   "id": "2198d1c3",
   "metadata": {},
   "outputs": [],
   "source": [
    "#Rules for declaring the variables:"
   ]
  },
  {
   "cell_type": "code",
   "execution_count": null,
   "id": "12c73878",
   "metadata": {},
   "outputs": [],
   "source": [
    "#Rule No1:No namespaces while declaring the variables"
   ]
  },
  {
   "cell_type": "code",
   "execution_count": 2,
   "id": "a29e6ccc",
   "metadata": {},
   "outputs": [
    {
     "ename": "SyntaxError",
     "evalue": "invalid syntax. Perhaps you forgot a comma? (2780868499.py, line 2)",
     "output_type": "error",
     "traceback": [
      "\u001b[1;36m  Cell \u001b[1;32mIn[2], line 2\u001b[1;36m\u001b[0m\n\u001b[1;33m    print(first name)\u001b[0m\n\u001b[1;37m          ^\u001b[0m\n\u001b[1;31mSyntaxError\u001b[0m\u001b[1;31m:\u001b[0m invalid syntax. Perhaps you forgot a comma?\n"
     ]
    }
   ],
   "source": [
    "name='sandhya'\n",
    "print(first name)\n",
    "input In[3]"
   ]
  },
  {
   "cell_type": "code",
   "execution_count": 3,
   "id": "ed50756b",
   "metadata": {
    "scrolled": true
   },
   "outputs": [
    {
     "ename": "NameError",
     "evalue": "name 'firstname' is not defined",
     "output_type": "error",
     "traceback": [
      "\u001b[1;31m---------------------------------------------------------------------------\u001b[0m",
      "\u001b[1;31mNameError\u001b[0m                                 Traceback (most recent call last)",
      "Cell \u001b[1;32mIn[3], line 2\u001b[0m\n\u001b[0;32m      1\u001b[0m Firstname\u001b[38;5;241m=\u001b[39m\u001b[38;5;124m'\u001b[39m\u001b[38;5;124msandhya\u001b[39m\u001b[38;5;124m'\u001b[39m\n\u001b[1;32m----> 2\u001b[0m \u001b[38;5;28mprint\u001b[39m(firstname)\n",
      "\u001b[1;31mNameError\u001b[0m: name 'firstname' is not defined"
     ]
    }
   ],
   "source": [
    "Firstname='sandhya'\n",
    "print(firstname)"
   ]
  },
  {
   "cell_type": "code",
   "execution_count": 4,
   "id": "78944ee6",
   "metadata": {},
   "outputs": [
    {
     "name": "stdout",
     "output_type": "stream",
     "text": [
      "sandhya\n"
     ]
    }
   ],
   "source": [
    "Firstname='sandhya'\n",
    "print(Firstname)"
   ]
  },
  {
   "cell_type": "code",
   "execution_count": 5,
   "id": "75dccfba",
   "metadata": {},
   "outputs": [
    {
     "name": "stdout",
     "output_type": "stream",
     "text": [
      "sandhya\n"
     ]
    }
   ],
   "source": [
    "first_name='sandhya'\n",
    "print(first_name)"
   ]
  },
  {
   "cell_type": "code",
   "execution_count": null,
   "id": "a8d22fba",
   "metadata": {},
   "outputs": [],
   "source": [
    "# Rule No2:A variable name should not start with a number"
   ]
  },
  {
   "cell_type": "code",
   "execution_count": 6,
   "id": "581791ab",
   "metadata": {},
   "outputs": [
    {
     "ename": "SyntaxError",
     "evalue": "invalid decimal literal (3825446166.py, line 1)",
     "output_type": "error",
     "traceback": [
      "\u001b[1;36m  Cell \u001b[1;32mIn[6], line 1\u001b[1;36m\u001b[0m\n\u001b[1;33m    1name='kiran'\u001b[0m\n\u001b[1;37m    ^\u001b[0m\n\u001b[1;31mSyntaxError\u001b[0m\u001b[1;31m:\u001b[0m invalid decimal literal\n"
     ]
    }
   ],
   "source": [
    "1name='kiran'\n",
    "print(1name)"
   ]
  },
  {
   "cell_type": "code",
   "execution_count": 7,
   "id": "d69dfd10",
   "metadata": {},
   "outputs": [
    {
     "name": "stdout",
     "output_type": "stream",
     "text": [
      "kiran\n"
     ]
    }
   ],
   "source": [
    "name1='kiran'\n",
    "print(name1)"
   ]
  },
  {
   "cell_type": "code",
   "execution_count": null,
   "id": "9ade7f62",
   "metadata": {},
   "outputs": [],
   "source": [
    "# Rule No3: A variable name should not contain any special characters @ $ % & *"
   ]
  },
  {
   "cell_type": "code",
   "execution_count": 8,
   "id": "9c544f2b",
   "metadata": {},
   "outputs": [
    {
     "ename": "SyntaxError",
     "evalue": "invalid syntax (298481300.py, line 2)",
     "output_type": "error",
     "traceback": [
      "\u001b[1;36m  Cell \u001b[1;32mIn[8], line 2\u001b[1;36m\u001b[0m\n\u001b[1;33m    print(name@)\u001b[0m\n\u001b[1;37m               ^\u001b[0m\n\u001b[1;31mSyntaxError\u001b[0m\u001b[1;31m:\u001b[0m invalid syntax\n"
     ]
    }
   ],
   "source": [
    "name@='aaiyda'\n",
    "print(name@)"
   ]
  },
  {
   "cell_type": "code",
   "execution_count": 9,
   "id": "30f3dadf",
   "metadata": {},
   "outputs": [
    {
     "name": "stdout",
     "output_type": "stream",
     "text": [
      "aaiyda\n"
     ]
    }
   ],
   "source": [
    "name='aaiyda'\n",
    "print(name)"
   ]
  },
  {
   "cell_type": "code",
   "execution_count": null,
   "id": "2a75928a",
   "metadata": {},
   "outputs": [],
   "source": [
    "# Datatypes in Python\n",
    " 1 String---> str\n",
    " 2 Number--->integer(int), float(decimal)-->float\n",
    " 3 Lists-->list\n",
    " 4 Tuple--->tuple\n",
    " 5 Dictionaries--->dict\n",
    "\n",
    "Classification of datatypes\n",
    "\n",
    "1.Mutable datatypes==>which we can edit alter\n",
    "2.Immutable datatype==>which we cannot be able to edit/alter"
   ]
  },
  {
   "cell_type": "code",
   "execution_count": null,
   "id": "1a06ec10",
   "metadata": {},
   "outputs": [],
   "source": [
    "# Introduction to string datatypes\n",
    "defination: A string is a series of character declared in quotes.\n",
    "\n",
    "classification:  It is classfied as an immutable datatype"
   ]
  },
  {
   "cell_type": "code",
   "execution_count": null,
   "id": "cf4672ad",
   "metadata": {},
   "outputs": [],
   "source": [
    "# how to declare the String\n",
    "1. Single  quote\n",
    "2. Double quote"
   ]
  },
  {
   "cell_type": "code",
   "execution_count": 10,
   "id": "ef300175",
   "metadata": {},
   "outputs": [
    {
     "name": "stdout",
     "output_type": "stream",
     "text": [
      "Aayman\n"
     ]
    }
   ],
   "source": [
    "name='Aayman' #single quote\n",
    "print(name)"
   ]
  },
  {
   "cell_type": "code",
   "execution_count": 11,
   "id": "025ceb00",
   "metadata": {},
   "outputs": [
    {
     "name": "stdout",
     "output_type": "stream",
     "text": [
      "Pratheek\n"
     ]
    }
   ],
   "source": [
    "name1=\"Pratheek\" #double quote\n",
    "print(name1)"
   ]
  },
  {
   "cell_type": "code",
   "execution_count": null,
   "id": "5fe215fc",
   "metadata": {},
   "outputs": [],
   "source": [
    "# Understanding the string methods: type, .title(),.upper(),.lower()"
   ]
  },
  {
   "cell_type": "code",
   "execution_count": 12,
   "id": "1e0f2aa3",
   "metadata": {},
   "outputs": [
    {
     "data": {
      "text/plain": [
       "str"
      ]
     },
     "execution_count": 12,
     "metadata": {},
     "output_type": "execute_result"
    }
   ],
   "source": [
    "type(name)"
   ]
  },
  {
   "cell_type": "code",
   "execution_count": 13,
   "id": "4ea59079",
   "metadata": {},
   "outputs": [
    {
     "data": {
      "text/plain": [
       "str"
      ]
     },
     "execution_count": 13,
     "metadata": {},
     "output_type": "execute_result"
    }
   ],
   "source": [
    "type(name1)"
   ]
  },
  {
   "cell_type": "code",
   "execution_count": 14,
   "id": "546a5685",
   "metadata": {},
   "outputs": [
    {
     "name": "stdout",
     "output_type": "stream",
     "text": [
      "Sriram pratheek\n"
     ]
    }
   ],
   "source": [
    "fullname=\"Sriram pratheek\"\n",
    "print(fullname)"
   ]
  },
  {
   "cell_type": "code",
   "execution_count": 15,
   "id": "b5baebbe",
   "metadata": {},
   "outputs": [
    {
     "name": "stdout",
     "output_type": "stream",
     "text": [
      "Sriram Pratheek\n"
     ]
    }
   ],
   "source": [
    "print(fullname.title())"
   ]
  },
  {
   "cell_type": "code",
   "execution_count": 16,
   "id": "59fa92c6",
   "metadata": {},
   "outputs": [
    {
     "name": "stdout",
     "output_type": "stream",
     "text": [
      "SRIRAM PRATHEEK\n"
     ]
    }
   ],
   "source": [
    "print(fullname.upper())"
   ]
  },
  {
   "cell_type": "code",
   "execution_count": 17,
   "id": "cfb4c307",
   "metadata": {},
   "outputs": [
    {
     "name": "stdout",
     "output_type": "stream",
     "text": [
      "sriram pratheek\n"
     ]
    }
   ],
   "source": [
    "print(fullname.lower())"
   ]
  },
  {
   "cell_type": "code",
   "execution_count": null,
   "id": "0ce561c3",
   "metadata": {},
   "outputs": [],
   "source": []
  },
  {
   "cell_type": "code",
   "execution_count": null,
   "id": "45f735cf",
   "metadata": {},
   "outputs": [],
   "source": []
  },
  {
   "cell_type": "code",
   "execution_count": null,
   "id": "03e6d8e1",
   "metadata": {},
   "outputs": [],
   "source": []
  },
  {
   "cell_type": "code",
   "execution_count": null,
   "id": "429ed988",
   "metadata": {},
   "outputs": [],
   "source": []
  },
  {
   "cell_type": "code",
   "execution_count": null,
   "id": "00b0af2e",
   "metadata": {},
   "outputs": [],
   "source": []
  }
 ],
 "metadata": {
  "kernelspec": {
   "display_name": "Python 3 (ipykernel)",
   "language": "python",
   "name": "python3"
  },
  "language_info": {
   "codemirror_mode": {
    "name": "ipython",
    "version": 3
   },
   "file_extension": ".py",
   "mimetype": "text/x-python",
   "name": "python",
   "nbconvert_exporter": "python",
   "pygments_lexer": "ipython3",
   "version": "3.11.3"
  }
 },
 "nbformat": 4,
 "nbformat_minor": 5
}
