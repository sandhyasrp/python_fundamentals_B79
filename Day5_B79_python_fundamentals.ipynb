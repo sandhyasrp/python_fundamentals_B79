{
 "cells": [
  {
   "cell_type": "code",
   "execution_count": null,
   "id": "ff8fc5ea",
   "metadata": {},
   "outputs": [],
   "source": [
    "# Continuation with list datatype:"
   ]
  },
  {
   "cell_type": "code",
   "execution_count": null,
   "id": "7907a5c7",
   "metadata": {},
   "outputs": [],
   "source": [
    "#Organising list datatype"
   ]
  },
  {
   "cell_type": "code",
   "execution_count": 1,
   "id": "07eba37c",
   "metadata": {},
   "outputs": [],
   "source": [
    "cars=['suzuki','maruthi','honda','kia','bmw','toyota','audi','benz']"
   ]
  },
  {
   "cell_type": "code",
   "execution_count": 2,
   "id": "cd2c325c",
   "metadata": {},
   "outputs": [
    {
     "name": "stdout",
     "output_type": "stream",
     "text": [
      "['suzuki', 'maruthi', 'honda', 'kia', 'bmw', 'toyota', 'audi', 'benz']\n"
     ]
    }
   ],
   "source": [
    "print(cars)"
   ]
  },
  {
   "cell_type": "code",
   "execution_count": null,
   "id": "2e5f519b",
   "metadata": {},
   "outputs": [],
   "source": [
    "#we want to verify which datatype it is"
   ]
  },
  {
   "cell_type": "code",
   "execution_count": 3,
   "id": "3b85c5f4",
   "metadata": {},
   "outputs": [
    {
     "data": {
      "text/plain": [
       "list"
      ]
     },
     "execution_count": 3,
     "metadata": {},
     "output_type": "execute_result"
    }
   ],
   "source": [
    "type(cars)"
   ]
  },
  {
   "cell_type": "code",
   "execution_count": null,
   "id": "11a18ee3",
   "metadata": {},
   "outputs": [],
   "source": [
    "# we want to organise the list in a alphabetical order:\n",
    "\n",
    "1.temporary approach====sorted==\n",
    "2.permanent approach====sort==="
   ]
  },
  {
   "cell_type": "code",
   "execution_count": null,
   "id": "f6bf7f18",
   "metadata": {},
   "outputs": [],
   "source": [
    "1.by using sorted we can be able to get the original order back\n",
    "2.by using sort, all the changes are implied permanently"
   ]
  },
  {
   "cell_type": "code",
   "execution_count": 4,
   "id": "3b5e99a8",
   "metadata": {},
   "outputs": [
    {
     "name": "stdout",
     "output_type": "stream",
     "text": [
      "['audi', 'benz', 'bmw', 'honda', 'kia', 'maruthi', 'suzuki', 'toyota']\n"
     ]
    }
   ],
   "source": [
    "print(sorted(cars)) #temporary order"
   ]
  },
  {
   "cell_type": "code",
   "execution_count": 5,
   "id": "08bf02df",
   "metadata": {},
   "outputs": [
    {
     "name": "stdout",
     "output_type": "stream",
     "text": [
      "['suzuki', 'maruthi', 'honda', 'kia', 'bmw', 'toyota', 'audi', 'benz']\n"
     ]
    }
   ],
   "source": [
    "print(cars) #permanent order"
   ]
  },
  {
   "cell_type": "code",
   "execution_count": 6,
   "id": "153cf1e9",
   "metadata": {},
   "outputs": [],
   "source": [
    "cars.sort()"
   ]
  },
  {
   "cell_type": "code",
   "execution_count": 7,
   "id": "b0247718",
   "metadata": {},
   "outputs": [
    {
     "name": "stdout",
     "output_type": "stream",
     "text": [
      "['audi', 'benz', 'bmw', 'honda', 'kia', 'maruthi', 'suzuki', 'toyota']\n"
     ]
    }
   ],
   "source": [
    "print(cars)"
   ]
  },
  {
   "cell_type": "code",
   "execution_count": null,
   "id": "17163264",
   "metadata": {},
   "outputs": [],
   "source": []
  },
  {
   "cell_type": "code",
   "execution_count": null,
   "id": "45d28ba8",
   "metadata": {},
   "outputs": [],
   "source": [
    "# how to commenting the lines====> by using # symbol "
   ]
  },
  {
   "cell_type": "code",
   "execution_count": 8,
   "id": "030c72ac",
   "metadata": {},
   "outputs": [
    {
     "name": "stdout",
     "output_type": "stream",
     "text": [
      "['audi', 'benz', 'bmw', 'honda', 'kia', 'maruthi', 'suzuki', 'toyota']\n"
     ]
    }
   ],
   "source": [
    "print(cars) # A-Z====Z-A"
   ]
  },
  {
   "cell_type": "code",
   "execution_count": null,
   "id": "be2f0452",
   "metadata": {},
   "outputs": [],
   "source": [
    "#req we wnat to print the above list in a everse order...."
   ]
  },
  {
   "cell_type": "code",
   "execution_count": 9,
   "id": "78af4e53",
   "metadata": {},
   "outputs": [],
   "source": [
    "cars.reverse()"
   ]
  },
  {
   "cell_type": "code",
   "execution_count": 10,
   "id": "aaae6285",
   "metadata": {},
   "outputs": [
    {
     "name": "stdout",
     "output_type": "stream",
     "text": [
      "['toyota', 'suzuki', 'maruthi', 'kia', 'honda', 'bmw', 'benz', 'audi']\n"
     ]
    }
   ],
   "source": [
    "print(cars)"
   ]
  },
  {
   "cell_type": "code",
   "execution_count": null,
   "id": "75647efb",
   "metadata": {},
   "outputs": [],
   "source": [
    "#req: i want to calculate the no. of elements in the list..."
   ]
  },
  {
   "cell_type": "code",
   "execution_count": 11,
   "id": "79555699",
   "metadata": {},
   "outputs": [
    {
     "data": {
      "text/plain": [
       "8"
      ]
     },
     "execution_count": 11,
     "metadata": {},
     "output_type": "execute_result"
    }
   ],
   "source": [
    "len(cars)"
   ]
  },
  {
   "cell_type": "code",
   "execution_count": null,
   "id": "0199af98",
   "metadata": {},
   "outputs": [],
   "source": [
    "# Introduction to slicing:"
   ]
  },
  {
   "cell_type": "code",
   "execution_count": null,
   "id": "bc1faf11",
   "metadata": {},
   "outputs": [],
   "source": [
    "# general Syntax of slicing:\n",
    "[startvalue:stopvalue:stepcount]"
   ]
  },
  {
   "cell_type": "code",
   "execution_count": null,
   "id": "07ee346c",
   "metadata": {},
   "outputs": [],
   "source": [
    "# Note:stopvalue is always exclusive to include the stop value, we have to increment the number by +1"
   ]
  },
  {
   "cell_type": "code",
   "execution_count": 12,
   "id": "0735acf1",
   "metadata": {},
   "outputs": [],
   "source": [
    "students=['aditi','sara','mounika','ramya','naveen','adil','kiran','david']"
   ]
  },
  {
   "cell_type": "code",
   "execution_count": 13,
   "id": "00474326",
   "metadata": {},
   "outputs": [
    {
     "name": "stdout",
     "output_type": "stream",
     "text": [
      "['aditi', 'sara', 'mounika', 'ramya', 'naveen', 'adil', 'kiran', 'david']\n"
     ]
    }
   ],
   "source": [
    "print(students)"
   ]
  },
  {
   "cell_type": "code",
   "execution_count": 14,
   "id": "07d8a033",
   "metadata": {},
   "outputs": [
    {
     "name": "stdout",
     "output_type": "stream",
     "text": [
      "['aditi']\n"
     ]
    }
   ],
   "source": [
    "print(students[0:1])"
   ]
  },
  {
   "cell_type": "code",
   "execution_count": 15,
   "id": "9ff3a62e",
   "metadata": {},
   "outputs": [
    {
     "name": "stdout",
     "output_type": "stream",
     "text": [
      "['aditi', 'sara']\n"
     ]
    }
   ],
   "source": [
    "print(students[0:2])"
   ]
  },
  {
   "cell_type": "code",
   "execution_count": 16,
   "id": "47d76745",
   "metadata": {},
   "outputs": [
    {
     "name": "stdout",
     "output_type": "stream",
     "text": [
      "['mounika', 'ramya']\n"
     ]
    }
   ],
   "source": [
    "print(students[2:4])"
   ]
  },
  {
   "cell_type": "code",
   "execution_count": null,
   "id": "0e82ba49",
   "metadata": {},
   "outputs": [],
   "source": [
    "# step count example"
   ]
  },
  {
   "cell_type": "code",
   "execution_count": 17,
   "id": "4d040bbe",
   "metadata": {},
   "outputs": [
    {
     "name": "stdout",
     "output_type": "stream",
     "text": [
      "['aditi', 'mounika', 'naveen', 'kiran']\n"
     ]
    }
   ],
   "source": [
    "print(students[0:8:2])"
   ]
  },
  {
   "cell_type": "code",
   "execution_count": null,
   "id": "3a0fba18",
   "metadata": {},
   "outputs": [],
   "source": [
    "# introduction to the concept of negative(-) indexing:"
   ]
  },
  {
   "cell_type": "code",
   "execution_count": null,
   "id": "8210a486",
   "metadata": {},
   "outputs": [],
   "source": [
    "0,1,2,3,4,....."
   ]
  },
  {
   "cell_type": "code",
   "execution_count": null,
   "id": "3c15d35b",
   "metadata": {},
   "outputs": [],
   "source": [
    "-1,-2,-3,-4......(negative indexing)"
   ]
  },
  {
   "cell_type": "code",
   "execution_count": 18,
   "id": "62f0068e",
   "metadata": {},
   "outputs": [
    {
     "name": "stdout",
     "output_type": "stream",
     "text": [
      "['aditi', 'sara', 'mounika', 'ramya', 'naveen', 'adil', 'kiran', 'david']\n"
     ]
    }
   ],
   "source": [
    "print(students)"
   ]
  },
  {
   "cell_type": "code",
   "execution_count": 19,
   "id": "4a7dbb5d",
   "metadata": {},
   "outputs": [
    {
     "ename": "NameError",
     "evalue": "name 'student' is not defined",
     "output_type": "error",
     "traceback": [
      "\u001b[1;31m---------------------------------------------------------------------------\u001b[0m",
      "\u001b[1;31mNameError\u001b[0m                                 Traceback (most recent call last)",
      "Cell \u001b[1;32mIn[19], line 1\u001b[0m\n\u001b[1;32m----> 1\u001b[0m \u001b[38;5;28mprint\u001b[39m(student[\u001b[38;5;241m-\u001b[39m\u001b[38;5;241m1\u001b[39m])\n",
      "\u001b[1;31mNameError\u001b[0m: name 'student' is not defined"
     ]
    }
   ],
   "source": [
    "print(student[-1])"
   ]
  },
  {
   "cell_type": "code",
   "execution_count": 20,
   "id": "e892048b",
   "metadata": {},
   "outputs": [
    {
     "name": "stdout",
     "output_type": "stream",
     "text": [
      "david\n"
     ]
    }
   ],
   "source": [
    "print(students[-1])"
   ]
  },
  {
   "cell_type": "code",
   "execution_count": null,
   "id": "ffb17ae3",
   "metadata": {},
   "outputs": [],
   "source": [
    "# Interview question: what is the difference between the +ve and -ve indexing"
   ]
  }
 ],
 "metadata": {
  "kernelspec": {
   "display_name": "Python 3 (ipykernel)",
   "language": "python",
   "name": "python3"
  },
  "language_info": {
   "codemirror_mode": {
    "name": "ipython",
    "version": 3
   },
   "file_extension": ".py",
   "mimetype": "text/x-python",
   "name": "python",
   "nbconvert_exporter": "python",
   "pygments_lexer": "ipython3",
   "version": "3.11.3"
  }
 },
 "nbformat": 4,
 "nbformat_minor": 5
}
