{
 "cells": [
  {
   "cell_type": "code",
   "execution_count": null,
   "id": "2e498af5",
   "metadata": {},
   "outputs": [],
   "source": [
    "# Introduction to Dictionary datatype\n",
    "\n",
    "# Defination: It is a combination of key value pairs.\n",
    "\n",
    "# Classification:It is classified as a mutable datatype\n",
    "\n",
    "# how to define it={}"
   ]
  },
  {
   "cell_type": "code",
   "execution_count": null,
   "id": "e6c96358",
   "metadata": {},
   "outputs": [],
   "source": [
    "# req:creating a alien name"
   ]
  },
  {
   "cell_type": "code",
   "execution_count": 1,
   "id": "46a393f6",
   "metadata": {},
   "outputs": [],
   "source": [
    "alien={'color':'green','points':5}"
   ]
  },
  {
   "cell_type": "code",
   "execution_count": 2,
   "id": "a58a30cc",
   "metadata": {},
   "outputs": [
    {
     "data": {
      "text/plain": [
       "dict"
      ]
     },
     "execution_count": 2,
     "metadata": {},
     "output_type": "execute_result"
    }
   ],
   "source": [
    "type(alien)"
   ]
  },
  {
   "cell_type": "code",
   "execution_count": 3,
   "id": "f9dd657e",
   "metadata": {},
   "outputs": [
    {
     "name": "stdout",
     "output_type": "stream",
     "text": [
      "{'color': 'green', 'points': 5}\n"
     ]
    }
   ],
   "source": [
    "print(alien)"
   ]
  },
  {
   "cell_type": "code",
   "execution_count": null,
   "id": "77b99ec9",
   "metadata": {},
   "outputs": [],
   "source": [
    "# req: i want to add additional properties "
   ]
  },
  {
   "cell_type": "code",
   "execution_count": 4,
   "id": "a160f740",
   "metadata": {},
   "outputs": [],
   "source": [
    "alien['start_position']=0"
   ]
  },
  {
   "cell_type": "code",
   "execution_count": 5,
   "id": "d7c4106c",
   "metadata": {},
   "outputs": [
    {
     "name": "stdout",
     "output_type": "stream",
     "text": [
      "{'color': 'green', 'points': 5, 'start_position': 0}\n"
     ]
    }
   ],
   "source": [
    "print(alien)"
   ]
  },
  {
   "cell_type": "code",
   "execution_count": null,
   "id": "2b0e1410",
   "metadata": {},
   "outputs": [],
   "source": [
    "# how to modify the key value pairs.."
   ]
  },
  {
   "cell_type": "code",
   "execution_count": 6,
   "id": "b31a6e55",
   "metadata": {},
   "outputs": [],
   "source": [
    "alien['start_position']=2"
   ]
  },
  {
   "cell_type": "code",
   "execution_count": 7,
   "id": "992d4d45",
   "metadata": {},
   "outputs": [
    {
     "name": "stdout",
     "output_type": "stream",
     "text": [
      "{'color': 'green', 'points': 5, 'start_position': 2}\n"
     ]
    }
   ],
   "source": [
    "print(alien)"
   ]
  }
 ],
 "metadata": {
  "kernelspec": {
   "display_name": "Python 3 (ipykernel)",
   "language": "python",
   "name": "python3"
  },
  "language_info": {
   "codemirror_mode": {
    "name": "ipython",
    "version": 3
   },
   "file_extension": ".py",
   "mimetype": "text/x-python",
   "name": "python",
   "nbconvert_exporter": "python",
   "pygments_lexer": "ipython3",
   "version": "3.11.3"
  }
 },
 "nbformat": 4,
 "nbformat_minor": 5
}
