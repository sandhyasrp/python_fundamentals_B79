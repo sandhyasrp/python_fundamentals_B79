{
 "cells": [
  {
   "cell_type": "code",
   "execution_count": null,
   "id": "90eb6bf2",
   "metadata": {},
   "outputs": [],
   "source": [
    "#Continuation with String datatypes\n",
    "understanding the concepts of f String:"
   ]
  },
  {
   "cell_type": "code",
   "execution_count": null,
   "id": "71d58826",
   "metadata": {},
   "outputs": [],
   "source": [
    "firstname='praveen'\n",
    "lastname='kumar'"
   ]
  },
  {
   "cell_type": "code",
   "execution_count": null,
   "id": "fa8b874e",
   "metadata": {},
   "outputs": [],
   "source": [
    "# i want the fullname over here..?"
   ]
  },
  {
   "cell_type": "code",
   "execution_count": null,
   "id": "083fa833",
   "metadata": {},
   "outputs": [],
   "source": [
    "f string:\n",
    "# General Syntax of Strings:\n",
    "f \"custom message,{place_holder_1}{place_holder2}.........{place_holder_n}\" \n"
   ]
  },
  {
   "cell_type": "code",
   "execution_count": 43,
   "id": "679375b1",
   "metadata": {},
   "outputs": [
    {
     "ename": "SyntaxError",
     "evalue": "invalid syntax (4031896319.py, line 3)",
     "output_type": "error",
     "traceback": [
      "\u001b[1;36m  Cell \u001b[1;32mIn[43], line 3\u001b[1;36m\u001b[0m\n\u001b[1;33m    fullname=(f 'hi,{firstname}{lastname}')\u001b[0m\n\u001b[1;37m                ^\u001b[0m\n\u001b[1;31mSyntaxError\u001b[0m\u001b[1;31m:\u001b[0m invalid syntax\n"
     ]
    }
   ],
   "source": [
    "firstname='praveen'\n",
    "lastname='kumar'\n",
    "fullname=(f 'hi,{firstname}{lastname}')\n",
    "print(fullname)"
   ]
  },
  {
   "cell_type": "code",
   "execution_count": 16,
   "id": "ca981a09",
   "metadata": {
    "scrolled": true
   },
   "outputs": [
    {
     "name": "stdout",
     "output_type": "stream",
     "text": [
      "Hi,praveen kumar\n"
     ]
    }
   ],
   "source": [
    "firstname=\"praveen\"\n",
    "lastname=\"kumar\"\n",
    "fullname=f\"Hi,{firstname} {lastname}\"\n",
    "print(fullname)"
   ]
  },
  {
   "cell_type": "code",
   "execution_count": 23,
   "id": "8d80e8c0",
   "metadata": {},
   "outputs": [
    {
     "name": "stdout",
     "output_type": "stream",
     "text": [
      "Hi,praveen kumar. keep up the good work.\n"
     ]
    }
   ],
   "source": [
    "message=f\"{fullname}. keep up the good work.\"\n",
    "print(message)"
   ]
  },
  {
   "cell_type": "code",
   "execution_count": 24,
   "id": "c91d3ca9",
   "metadata": {},
   "outputs": [
    {
     "name": "stdout",
     "output_type": "stream",
     "text": [
      "Hi,Praveen Kumar.keep up the good work.\n"
     ]
    }
   ],
   "source": [
    "message=f\"{fullname.title()}.keep up the good work.\"\n",
    "print(message)"
   ]
  },
  {
   "cell_type": "code",
   "execution_count": null,
   "id": "eba29268",
   "metadata": {},
   "outputs": [],
   "source": [
    "#Adding white spaces to strings:"
   ]
  },
  {
   "cell_type": "code",
   "execution_count": null,
   "id": "dfbaf81f",
   "metadata": {},
   "outputs": [],
   "source": [
    "#\\n==>new line delimiter"
   ]
  },
  {
   "cell_type": "code",
   "execution_count": 25,
   "id": "2c3269c2",
   "metadata": {},
   "outputs": [
    {
     "name": "stdout",
     "output_type": "stream",
     "text": [
      "fav_lang:pythonjavac++swiftjavascript\n"
     ]
    }
   ],
   "source": [
    "print(\"fav_lang:pythonjavac++swiftjavascript\")"
   ]
  },
  {
   "cell_type": "code",
   "execution_count": 26,
   "id": "ef12686d",
   "metadata": {},
   "outputs": [
    {
     "name": "stdout",
     "output_type": "stream",
     "text": [
      "fav_lang:\n",
      "python\n",
      "java\n",
      "c++\n",
      "swift\n",
      "javascript\n"
     ]
    }
   ],
   "source": [
    "print(\"fav_lang:\\npython\\njava\\nc++\\nswift\\njavascript\")"
   ]
  },
  {
   "cell_type": "code",
   "execution_count": null,
   "id": "5aba9623",
   "metadata": {},
   "outputs": [],
   "source": [
    "#\\t==>tab delimiter"
   ]
  },
  {
   "cell_type": "code",
   "execution_count": 27,
   "id": "0f13c882",
   "metadata": {},
   "outputs": [
    {
     "name": "stdout",
     "output_type": "stream",
     "text": [
      "fav_lang:\n",
      "\tpython\n",
      "\tjava\n",
      "\tc++\n",
      "\tswift\n",
      "\tjavascript\n"
     ]
    }
   ],
   "source": [
    "print(\"fav_lang:\\n\\tpython\\n\\tjava\\n\\tc++\\n\\tswift\\n\\tjavascript\")"
   ]
  },
  {
   "cell_type": "code",
   "execution_count": null,
   "id": "48843389",
   "metadata": {},
   "outputs": [],
   "source": [
    "# Removing whitespace from strings: (unneccessary space removing)"
   ]
  },
  {
   "cell_type": "code",
   "execution_count": 30,
   "id": "784d8b90",
   "metadata": {},
   "outputs": [
    {
     "name": "stdout",
     "output_type": "stream",
     "text": [
      "  python\n"
     ]
    }
   ],
   "source": [
    "language='  python'\n",
    "print(language)"
   ]
  },
  {
   "cell_type": "code",
   "execution_count": 41,
   "id": "3b65e50d",
   "metadata": {},
   "outputs": [
    {
     "name": "stdout",
     "output_type": "stream",
     "text": [
      "python  \n"
     ]
    }
   ],
   "source": [
    "language2='python  '\n",
    "print(language2)"
   ]
  },
  {
   "cell_type": "code",
   "execution_count": 39,
   "id": "f95e1ac8",
   "metadata": {},
   "outputs": [
    {
     "name": "stdout",
     "output_type": "stream",
     "text": [
      "  python  \n"
     ]
    }
   ],
   "source": [
    "language3='  python  '\n",
    "print(language3)"
   ]
  },
  {
   "cell_type": "code",
   "execution_count": 45,
   "id": "6401dca8",
   "metadata": {},
   "outputs": [
    {
     "data": {
      "text/plain": [
       "'python'"
      ]
     },
     "execution_count": 45,
     "metadata": {},
     "output_type": "execute_result"
    }
   ],
   "source": [
    "language.lstrip()\n"
   ]
  },
  {
   "cell_type": "code",
   "execution_count": 42,
   "id": "b12db122",
   "metadata": {},
   "outputs": [
    {
     "data": {
      "text/plain": [
       "'python'"
      ]
     },
     "execution_count": 42,
     "metadata": {},
     "output_type": "execute_result"
    }
   ],
   "source": [
    "language2.rstrip()"
   ]
  },
  {
   "cell_type": "code",
   "execution_count": 46,
   "id": "dbef1f22",
   "metadata": {},
   "outputs": [
    {
     "data": {
      "text/plain": [
       "'python'"
      ]
     },
     "execution_count": 46,
     "metadata": {},
     "output_type": "execute_result"
    }
   ],
   "source": [
    "language3.strip()"
   ]
  },
  {
   "cell_type": "code",
   "execution_count": null,
   "id": "9994874e",
   "metadata": {},
   "outputs": [],
   "source": []
  }
 ],
 "metadata": {
  "kernelspec": {
   "display_name": "Python 3 (ipykernel)",
   "language": "python",
   "name": "python3"
  },
  "language_info": {
   "codemirror_mode": {
    "name": "ipython",
    "version": 3
   },
   "file_extension": ".py",
   "mimetype": "text/x-python",
   "name": "python",
   "nbconvert_exporter": "python",
   "pygments_lexer": "ipython3",
   "version": "3.11.3"
  }
 },
 "nbformat": 4,
 "nbformat_minor": 5
}
