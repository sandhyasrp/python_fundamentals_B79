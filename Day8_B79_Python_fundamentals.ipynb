{
 "cells": [
  {
   "cell_type": "code",
   "execution_count": null,
   "id": "44acde8d",
   "metadata": {},
   "outputs": [],
   "source": [
    "#Introduction to Dictionary datatype"
   ]
  },
  {
   "cell_type": "code",
   "execution_count": null,
   "id": "68a2a243",
   "metadata": {},
   "outputs": [],
   "source": [
    "#Defination : it is a combination of key value pairs."
   ]
  },
  {
   "cell_type": "code",
   "execution_count": null,
   "id": "0bf29b5e",
   "metadata": {},
   "outputs": [],
   "source": [
    "#Classification: It is classified as a mutable datatype."
   ]
  },
  {
   "cell_type": "code",
   "execution_count": null,
   "id": "3325ad4b",
   "metadata": {},
   "outputs": [],
   "source": []
  },
  {
   "cell_type": "code",
   "execution_count": null,
   "id": "65426c9d",
   "metadata": {},
   "outputs": [],
   "source": [
    "#req : creating a alien name"
   ]
  },
  {
   "cell_type": "code",
   "execution_count": 2,
   "id": "4ef9394a",
   "metadata": {},
   "outputs": [],
   "source": [
    "alien={'color':'green','points':5}"
   ]
  },
  {
   "cell_type": "code",
   "execution_count": 4,
   "id": "875cdf6e",
   "metadata": {},
   "outputs": [
    {
     "name": "stdout",
     "output_type": "stream",
     "text": [
      "{'color': 'green', 'points': 5}\n"
     ]
    }
   ],
   "source": [
    "print(alien)"
   ]
  },
  {
   "cell_type": "code",
   "execution_count": 3,
   "id": "3c13ea87",
   "metadata": {},
   "outputs": [
    {
     "data": {
      "text/plain": [
       "dict"
      ]
     },
     "execution_count": 3,
     "metadata": {},
     "output_type": "execute_result"
    }
   ],
   "source": [
    "type(alien)"
   ]
  },
  {
   "cell_type": "code",
   "execution_count": null,
   "id": "4763472e",
   "metadata": {},
   "outputs": [],
   "source": [
    "# req: i want to add additional properties\n",
    "ex: start_position:0"
   ]
  },
  {
   "cell_type": "code",
   "execution_count": 4,
   "id": "403e4e3a",
   "metadata": {},
   "outputs": [],
   "source": [
    "alien['start_position']=0"
   ]
  },
  {
   "cell_type": "code",
   "execution_count": 5,
   "id": "9d5403f9",
   "metadata": {},
   "outputs": [
    {
     "name": "stdout",
     "output_type": "stream",
     "text": [
      "{'color': 'green', 'points': 5, 'start_position': 0}\n"
     ]
    }
   ],
   "source": [
    "print(alien)"
   ]
  },
  {
   "cell_type": "code",
   "execution_count": null,
   "id": "d42255d7",
   "metadata": {},
   "outputs": [],
   "source": [
    "# How to modify the key value pairs..."
   ]
  },
  {
   "cell_type": "code",
   "execution_count": 6,
   "id": "62c76dda",
   "metadata": {},
   "outputs": [
    {
     "name": "stdout",
     "output_type": "stream",
     "text": [
      "{'color': 'green', 'points': 5, 'start_position': 0}\n"
     ]
    }
   ],
   "source": [
    "print(alien)"
   ]
  },
  {
   "cell_type": "code",
   "execution_count": null,
   "id": "153bbbfa",
   "metadata": {},
   "outputs": [],
   "source": [
    "*change the position"
   ]
  },
  {
   "cell_type": "code",
   "execution_count": 7,
   "id": "e6fc9d18",
   "metadata": {},
   "outputs": [],
   "source": [
    "alien['start_position']=2"
   ]
  },
  {
   "cell_type": "code",
   "execution_count": 8,
   "id": "4e8e51a4",
   "metadata": {},
   "outputs": [
    {
     "name": "stdout",
     "output_type": "stream",
     "text": [
      "{'color': 'green', 'points': 5, 'start_position': 2}\n"
     ]
    }
   ],
   "source": [
    "print(alien)"
   ]
  },
  {
   "cell_type": "code",
   "execution_count": null,
   "id": "4ecf985c",
   "metadata": {},
   "outputs": [],
   "source": []
  }
 ],
 "metadata": {
  "kernelspec": {
   "display_name": "Python 3 (ipykernel)",
   "language": "python",
   "name": "python3"
  },
  "language_info": {
   "codemirror_mode": {
    "name": "ipython",
    "version": 3
   },
   "file_extension": ".py",
   "mimetype": "text/x-python",
   "name": "python",
   "nbconvert_exporter": "python",
   "pygments_lexer": "ipython3",
   "version": "3.11.3"
  }
 },
 "nbformat": 4,
 "nbformat_minor": 5
}
