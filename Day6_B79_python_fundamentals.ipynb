{
 "cells": [
  {
   "cell_type": "code",
   "execution_count": null,
   "id": "5ede75c9",
   "metadata": {},
   "outputs": [],
   "source": [
    "# Introduction to looping statements for loop:"
   ]
  },
  {
   "cell_type": "code",
   "execution_count": 1,
   "id": "548377d0",
   "metadata": {},
   "outputs": [
    {
     "ename": "SyntaxError",
     "evalue": "unterminated string literal (detected at line 1) (144476017.py, line 1)",
     "output_type": "error",
     "traceback": [
      "\u001b[1;36m  Cell \u001b[1;32mIn[1], line 1\u001b[1;36m\u001b[0m\n\u001b[1;33m    students=['rani','naveen','ramya','saba','ayesha,'hameed']\u001b[0m\n\u001b[1;37m                                                            ^\u001b[0m\n\u001b[1;31mSyntaxError\u001b[0m\u001b[1;31m:\u001b[0m unterminated string literal (detected at line 1)\n"
     ]
    }
   ],
   "source": [
    "students=['rani','naveen','ramya','saba','ayesha,'hameed']"
   ]
  },
  {
   "cell_type": "code",
   "execution_count": 2,
   "id": "d07428d0",
   "metadata": {},
   "outputs": [],
   "source": [
    "students=['rani','naveen','ramya','saba','ayesha','hameed']"
   ]
  },
  {
   "cell_type": "code",
   "execution_count": 3,
   "id": "52e762d0",
   "metadata": {},
   "outputs": [
    {
     "name": "stdout",
     "output_type": "stream",
     "text": [
      "['rani', 'naveen', 'ramya', 'saba', 'ayesha', 'hameed']\n"
     ]
    }
   ],
   "source": [
    "print(students)"
   ]
  },
  {
   "cell_type": "code",
   "execution_count": 4,
   "id": "9e5bcbd5",
   "metadata": {},
   "outputs": [
    {
     "data": {
      "text/plain": [
       "list"
      ]
     },
     "execution_count": 4,
     "metadata": {},
     "output_type": "execute_result"
    }
   ],
   "source": [
    "type(students)"
   ]
  },
  {
   "cell_type": "code",
   "execution_count": 5,
   "id": "ed38e538",
   "metadata": {},
   "outputs": [
    {
     "ename": "SyntaxError",
     "evalue": "unterminated string literal (detected at line 1) (65646206.py, line 1)",
     "output_type": "error",
     "traceback": [
      "\u001b[1;36m  Cell \u001b[1;32mIn[5], line 1\u001b[1;36m\u001b[0m\n\u001b[1;33m    print(f'keep up the good work,{students[0].title()})\u001b[0m\n\u001b[1;37m          ^\u001b[0m\n\u001b[1;31mSyntaxError\u001b[0m\u001b[1;31m:\u001b[0m unterminated string literal (detected at line 1)\n"
     ]
    }
   ],
   "source": [
    "print(f'keep up the good work,{students[0].title()})"
   ]
  },
  {
   "cell_type": "code",
   "execution_count": 6,
   "id": "bd5f5b4f",
   "metadata": {},
   "outputs": [
    {
     "name": "stdout",
     "output_type": "stream",
     "text": [
      "keep up the good work,Rani\n"
     ]
    }
   ],
   "source": [
    "print(f\"keep up the good work,{students[0].title()}\")"
   ]
  },
  {
   "cell_type": "code",
   "execution_count": 7,
   "id": "0057d85f",
   "metadata": {},
   "outputs": [
    {
     "name": "stdout",
     "output_type": "stream",
     "text": [
      "keep up the good work,Saba\n"
     ]
    }
   ],
   "source": [
    "print(f\"keep up the good work,{students[3].title()}\")"
   ]
  },
  {
   "cell_type": "code",
   "execution_count": null,
   "id": "f21cfbbc",
   "metadata": {},
   "outputs": [],
   "source": [
    "# General syntax of for loop\""
   ]
  },
  {
   "cell_type": "code",
   "execution_count": 8,
   "id": "9ff0c914",
   "metadata": {},
   "outputs": [
    {
     "ename": "NameError",
     "evalue": "name 'mainvar' is not defined",
     "output_type": "error",
     "traceback": [
      "\u001b[1;31m---------------------------------------------------------------------------\u001b[0m",
      "\u001b[1;31mNameError\u001b[0m                                 Traceback (most recent call last)",
      "Cell \u001b[1;32mIn[8], line 1\u001b[0m\n\u001b[1;32m----> 1\u001b[0m \u001b[38;5;28;01mfor\u001b[39;00m tempvar \u001b[38;5;129;01min\u001b[39;00m mainvar:\n\u001b[0;32m      2\u001b[0m     \u001b[38;5;28mprint\u001b[39m(tempvar)\n",
      "\u001b[1;31mNameError\u001b[0m: name 'mainvar' is not defined"
     ]
    }
   ],
   "source": [
    "for tempvar in mainvar:\n",
    "    print(tempvar)"
   ]
  },
  {
   "cell_type": "code",
   "execution_count": 9,
   "id": "ad767c53",
   "metadata": {},
   "outputs": [
    {
     "name": "stdout",
     "output_type": "stream",
     "text": [
      "keep up the good work,rani\n",
      "keep up the good work,naveen\n",
      "keep up the good work,ramya\n",
      "keep up the good work,saba\n",
      "keep up the good work,ayesha\n",
      "keep up the good work,hameed\n"
     ]
    }
   ],
   "source": [
    "for x in students:\n",
    "    print(f\"keep up the good work,{x}\")"
   ]
  },
  {
   "cell_type": "code",
   "execution_count": 10,
   "id": "b0e63e49",
   "metadata": {},
   "outputs": [
    {
     "name": "stdout",
     "output_type": "stream",
     "text": [
      "rani\n",
      "naveen\n",
      "ramya\n",
      "saba\n",
      "ayesha\n",
      "hameed\n"
     ]
    }
   ],
   "source": [
    "for a in students:\n",
    "    print(a)"
   ]
  },
  {
   "cell_type": "code",
   "execution_count": 11,
   "id": "d2eebf83",
   "metadata": {},
   "outputs": [
    {
     "name": "stdout",
     "output_type": "stream",
     "text": [
      "keep up the good work,rani\n",
      "i will be looking forward to receive your github urls for review,rani\n",
      "keep up the good work,naveen\n",
      "i will be looking forward to receive your github urls for review,naveen\n",
      "keep up the good work,ramya\n",
      "i will be looking forward to receive your github urls for review,ramya\n",
      "keep up the good work,saba\n",
      "i will be looking forward to receive your github urls for review,saba\n",
      "keep up the good work,ayesha\n",
      "i will be looking forward to receive your github urls for review,ayesha\n",
      "keep up the good work,hameed\n",
      "i will be looking forward to receive your github urls for review,hameed\n"
     ]
    }
   ],
   "source": [
    "for x in students:\n",
    "    print(f\"keep up the good work,{x}\")\n",
    "    print(f\"i will be looking forward to receive your github urls for review,{x}\")"
   ]
  },
  {
   "cell_type": "code",
   "execution_count": 12,
   "id": "dc99a602",
   "metadata": {},
   "outputs": [
    {
     "name": "stdout",
     "output_type": "stream",
     "text": [
      "keep up the good work,rani\n",
      "i will be looking forward to receive your github urls for review,rani\n",
      "\n",
      "keep up the good work,naveen\n",
      "i will be looking forward to receive your github urls for review,naveen\n",
      "\n",
      "keep up the good work,ramya\n",
      "i will be looking forward to receive your github urls for review,ramya\n",
      "\n",
      "keep up the good work,saba\n",
      "i will be looking forward to receive your github urls for review,saba\n",
      "\n",
      "keep up the good work,ayesha\n",
      "i will be looking forward to receive your github urls for review,ayesha\n",
      "\n",
      "keep up the good work,hameed\n",
      "i will be looking forward to receive your github urls for review,hameed\n",
      "\n"
     ]
    }
   ],
   "source": [
    "for x in students:\n",
    "    print(f\"keep up the good work,{x}\")\n",
    "    print(f\"i will be looking forward to receive your github urls for review,{x}\\n\")"
   ]
  },
  {
   "cell_type": "code",
   "execution_count": null,
   "id": "0cf8d1d6",
   "metadata": {},
   "outputs": [],
   "source": [
    "# introduction to tuple datatype"
   ]
  },
  {
   "cell_type": "code",
   "execution_count": null,
   "id": "d8f7eaae",
   "metadata": {},
   "outputs": [],
   "source": [
    "defination: An immutable list is called as a tuple."
   ]
  },
  {
   "cell_type": "code",
   "execution_count": null,
   "id": "c0f93609",
   "metadata": {},
   "outputs": [],
   "source": [
    "classification: It is classified as an immutable datatype"
   ]
  },
  {
   "cell_type": "code",
   "execution_count": null,
   "id": "000ddf39",
   "metadata": {},
   "outputs": [],
   "source": [
    "# tuple is a permanent declared variable, it cant be changed once declared"
   ]
  },
  {
   "cell_type": "code",
   "execution_count": null,
   "id": "5c22dd93",
   "metadata": {},
   "outputs": [],
   "source": [
    "#how to define the tuple"
   ]
  },
  {
   "cell_type": "code",
   "execution_count": 13,
   "id": "b7bec864",
   "metadata": {},
   "outputs": [],
   "source": [
    "dimensions=(200,50)"
   ]
  },
  {
   "cell_type": "code",
   "execution_count": 14,
   "id": "ce5364ff",
   "metadata": {},
   "outputs": [
    {
     "name": "stdout",
     "output_type": "stream",
     "text": [
      "(200, 50)\n"
     ]
    }
   ],
   "source": [
    "print(dimensions)"
   ]
  },
  {
   "cell_type": "code",
   "execution_count": 15,
   "id": "bedaffb0",
   "metadata": {},
   "outputs": [
    {
     "data": {
      "text/plain": [
       "tuple"
      ]
     },
     "execution_count": 15,
     "metadata": {},
     "output_type": "execute_result"
    }
   ],
   "source": [
    "type(dimensions)"
   ]
  },
  {
   "cell_type": "code",
   "execution_count": null,
   "id": "c385eafb",
   "metadata": {},
   "outputs": [],
   "source": [
    "#req: if we want to change the dimensions from 200 to 250"
   ]
  },
  {
   "cell_type": "code",
   "execution_count": 16,
   "id": "fd35e899",
   "metadata": {},
   "outputs": [
    {
     "ename": "NameError",
     "evalue": "name 'dimension' is not defined",
     "output_type": "error",
     "traceback": [
      "\u001b[1;31m---------------------------------------------------------------------------\u001b[0m",
      "\u001b[1;31mNameError\u001b[0m                                 Traceback (most recent call last)",
      "Cell \u001b[1;32mIn[16], line 1\u001b[0m\n\u001b[1;32m----> 1\u001b[0m dimension[\u001b[38;5;241m0\u001b[39m]\u001b[38;5;241m=\u001b[39m\u001b[38;5;241m250\u001b[39m\n",
      "\u001b[1;31mNameError\u001b[0m: name 'dimension' is not defined"
     ]
    }
   ],
   "source": [
    "dimension[0]=250"
   ]
  },
  {
   "cell_type": "code",
   "execution_count": null,
   "id": "9e183cbb",
   "metadata": {},
   "outputs": [],
   "source": [
    "#editing/alter is not allowed in tuple"
   ]
  },
  {
   "cell_type": "code",
   "execution_count": 17,
   "id": "43f69b82",
   "metadata": {},
   "outputs": [
    {
     "name": "stdout",
     "output_type": "stream",
     "text": [
      "200\n"
     ]
    }
   ],
   "source": [
    "print(dimensions[0])"
   ]
  },
  {
   "cell_type": "code",
   "execution_count": 18,
   "id": "01857f81",
   "metadata": {},
   "outputs": [
    {
     "name": "stdout",
     "output_type": "stream",
     "text": [
      "50\n"
     ]
    }
   ],
   "source": [
    "print(dimensions[1])"
   ]
  },
  {
   "cell_type": "code",
   "execution_count": 19,
   "id": "084b6e31",
   "metadata": {},
   "outputs": [
    {
     "name": "stdout",
     "output_type": "stream",
     "text": [
      "200\n",
      "50\n"
     ]
    }
   ],
   "source": [
    "for y in dimensions:\n",
    "    print(y)"
   ]
  },
  {
   "cell_type": "code",
   "execution_count": null,
   "id": "34080aab",
   "metadata": {},
   "outputs": [],
   "source": []
  }
 ],
 "metadata": {
  "kernelspec": {
   "display_name": "Python 3 (ipykernel)",
   "language": "python",
   "name": "python3"
  },
  "language_info": {
   "codemirror_mode": {
    "name": "ipython",
    "version": 3
   },
   "file_extension": ".py",
   "mimetype": "text/x-python",
   "name": "python",
   "nbconvert_exporter": "python",
   "pygments_lexer": "ipython3",
   "version": "3.11.3"
  }
 },
 "nbformat": 4,
 "nbformat_minor": 5
}
